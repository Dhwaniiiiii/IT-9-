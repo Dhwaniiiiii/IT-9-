{
 "cells": [
  {
   "cell_type": "markdown",
   "metadata": {},
   "source": [
    "# Python Module\n",
    "A Python module is a file containing Python definitions and statements. \n",
    "A module can define functions, classes, and variables. \n",
    "A module can also include runnable code.\n",
    "Grouping related code into a module makes the code easier to understand and use. \n",
    "It also makes the code logically organized."
   ]
  },
  {
   "cell_type": "code",
   "execution_count": 42,
   "metadata": {},
   "outputs": [],
   "source": [
    "# Create a module file with .py extension"
   ]
  },
  {
   "cell_type": "code",
   "execution_count": 43,
   "metadata": {},
   "outputs": [
    {
     "name": "stdout",
     "output_type": "stream",
     "text": [
      "15\n"
     ]
    }
   ],
   "source": [
    "# import module\n",
    "import my_module\n",
    "my_module.add(5,10)"
   ]
  },
  {
   "cell_type": "code",
   "execution_count": 44,
   "metadata": {},
   "outputs": [
    {
     "name": "stdout",
     "output_type": "stream",
     "text": [
      "5\n"
     ]
    }
   ],
   "source": [
    "my_module.sub(10,5)"
   ]
  },
  {
   "cell_type": "code",
   "execution_count": 45,
   "metadata": {},
   "outputs": [
    {
     "name": "stdout",
     "output_type": "stream",
     "text": [
      "10\n"
     ]
    }
   ],
   "source": [
    "# renaming or alias of module\n",
    "import my_module as calc\n",
    "calc.add(5,5)\n"
   ]
  },
  {
   "cell_type": "code",
   "execution_count": 46,
   "metadata": {},
   "outputs": [
    {
     "data": {
      "text/plain": [
       "0.9092974268256817"
      ]
     },
     "execution_count": 46,
     "metadata": {},
     "output_type": "execute_result"
    }
   ],
   "source": [
    "# Python built-in modules\n",
    "# math-- sqrt(), factorial(), sin(), cos(), tan(), degrees(),radians()\n",
    "import math\n",
    "math.sqrt(9)\n",
    "math.factorial(5)\n",
    "math.degrees(2)\n",
    "math.radians(100)\n",
    "math.sin(2)"
   ]
  },
  {
   "cell_type": "code",
   "execution_count": 47,
   "metadata": {},
   "outputs": [
    {
     "data": {
      "text/plain": [
       "6.5"
      ]
     },
     "execution_count": 47,
     "metadata": {},
     "output_type": "execute_result"
    }
   ],
   "source": [
    "# random -- randint(), random(), choice()\n",
    "import random\n",
    "random.randint(1,100)\n",
    "random.random()\n",
    "list1=[10,20,5.5,6.5,\"Python\",\"Hello\"]\n",
    "random.choice(list1)"
   ]
  },
  {
   "cell_type": "code",
   "execution_count": 48,
   "metadata": {},
   "outputs": [
    {
     "name": "stdout",
     "output_type": "stream",
     "text": [
      "2024-08-08\n",
      "2024\n",
      "8\n",
      "8\n"
     ]
    }
   ],
   "source": [
    "# datetime -- date(), today(), time(),  strftime()\n",
    "#import datetime \n",
    "from datetime import date\n",
    "\n",
    "#date_today = datetime.date.today() \n",
    "date_today = date.today() \n",
    "#time_now = datetime.datetime.now().time() \n",
    "print(date_today) \n",
    "print(date_today.year)\n",
    "print(date_today.month)\n",
    "print(date_today.day)\n",
    "#print(time_now) "
   ]
  },
  {
   "cell_type": "code",
   "execution_count": 49,
   "metadata": {},
   "outputs": [
    {
     "name": "stdout",
     "output_type": "stream",
     "text": [
      "2024-08-08 11:36:33.908333\n",
      "2024\n",
      "Thursday\n",
      "August\n"
     ]
    }
   ],
   "source": [
    "import datetime\n",
    "\n",
    "x = datetime.datetime.now()\n",
    "print(x)\n",
    "print(x.year)\n",
    "print(x.strftime(\"%A\"))\n",
    "print(x.strftime(\"%B\"))"
   ]
  },
  {
   "cell_type": "code",
   "execution_count": 50,
   "metadata": {},
   "outputs": [
    {
     "name": "stdout",
     "output_type": "stream",
     "text": [
      "August\n"
     ]
    }
   ],
   "source": [
    "import datetime\n",
    "\n",
    "x = datetime.datetime(2024, 8, 7)\n",
    "\n",
    "print(x.strftime(\"%B\"))"
   ]
  },
  {
   "cell_type": "code",
   "execution_count": 51,
   "metadata": {},
   "outputs": [
    {
     "name": "stdout",
     "output_type": "stream",
     "text": [
      "{\n",
      "    \"name\": \"Manish\",\n",
      "    \"age\": 30,\n",
      "    \"is_student\": true,\n",
      "    \"courses\": [\n",
      "        \"Python\",\n",
      "        \"Java\"\n",
      "    ]\n",
      "}\n"
     ]
    }
   ],
   "source": [
    "# json \n",
    "import json   \n",
    "data = { \n",
    "    \"name\": \"Manish\", \n",
    "    \"age\": 30, \n",
    "    \"is_student\": True, \n",
    "    \"courses\": [\"Python\", \"Java\"] \n",
    "} \n",
    "json_str = json.dumps(data, indent=4) \n",
    "print(json_str)   "
   ]
  },
  {
   "cell_type": "code",
   "execution_count": null,
   "metadata": {},
   "outputs": [],
   "source": [
    "# tkinter\n",
    "import tkinter as tk   \n",
    "def on_button_click():   \n",
    "    label.config(text=\"Hello, Python!\") \n",
    "root = tk.Tk() \n",
    "root.title(\"Tkinter Example\")   \n",
    "label = tk.Label(root, text=\"Click the button below\")   \n",
    "label.pack(pady=50)   \n",
    "button = tk.Button(root, text=\"Click Me\", command=on_button_click)  \n",
    "button.pack(pady=50)   \n",
    "root.mainloop()"
   ]
  },
  {
   "cell_type": "code",
   "execution_count": null,
   "metadata": {},
   "outputs": [],
   "source": []
  }
 ],
 "metadata": {
  "kernelspec": {
   "display_name": "Python 3",
   "language": "python",
   "name": "python3"
  },
  "language_info": {
   "codemirror_mode": {
    "name": "ipython",
    "version": 3
   },
   "file_extension": ".py",
   "mimetype": "text/x-python",
   "name": "python",
   "nbconvert_exporter": "python",
   "pygments_lexer": "ipython3",
   "version": "3.7.6"
  }
 },
 "nbformat": 4,
 "nbformat_minor": 4
}
