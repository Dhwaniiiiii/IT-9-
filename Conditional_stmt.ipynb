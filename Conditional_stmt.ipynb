{
 "cells": [
  {
   "cell_type": "code",
   "execution_count": 3,
   "metadata": {},
   "outputs": [
    {
     "name": "stdout",
     "output_type": "stream",
     "text": [
      "n is zero\n"
     ]
    }
   ],
   "source": [
    "# elif \n",
    "n=-0\n",
    "if n>0 :\n",
    "    print(\"n is +Ve\")\n",
    "elif n<0:\n",
    "    print(\"n is -Ve\")\n",
    "else:\n",
    "    print(\"n is zero\")"
   ]
  },
  {
   "cell_type": "code",
   "execution_count": 8,
   "metadata": {},
   "outputs": [
    {
     "name": "stdout",
     "output_type": "stream",
     "text": [
      "-Ve\n",
      "-Ve\n"
     ]
    }
   ],
   "source": [
    "# Single Line condition stmt\n",
    "n=-5\n",
    "if n>0 : print(\"n is +Ve\")\n",
    "\n",
    "result=\"+Ve\" if n>0 else \"-Ve\"\n",
    "print(result)\n",
    "\n",
    "print(\"+Ve\" if n>0 else \"-Ve\")"
   ]
  },
  {
   "cell_type": "code",
   "execution_count": 14,
   "metadata": {},
   "outputs": [
    {
     "name": "stdout",
     "output_type": "stream",
     "text": [
      "Friday\n"
     ]
    }
   ],
   "source": [
    "# Switch-Case Implementation\n",
    "def switch_case(day):\n",
    "    switcher={\n",
    "        1:\"Monday\",\n",
    "        2:\"Tuesday\",\n",
    "        3:\"Wednesday\",\n",
    "        4:\"Thursday\",\n",
    "        5:\"Friday\",\n",
    "        6:\"Saturday\",\n",
    "        7:\"Sunday\"\n",
    "    }\n",
    "    return switcher.get(day, \"Invalid\")\n",
    "day=5\n",
    "print(switch_case(day))"
   ]
  },
  {
   "cell_type": "code",
   "execution_count": null,
   "metadata": {},
   "outputs": [],
   "source": []
  }
 ],
 "metadata": {
  "kernelspec": {
   "display_name": "Python 3",
   "language": "python",
   "name": "python3"
  },
  "language_info": {
   "codemirror_mode": {
    "name": "ipython",
    "version": 3
   },
   "file_extension": ".py",
   "mimetype": "text/x-python",
   "name": "python",
   "nbconvert_exporter": "python",
   "pygments_lexer": "ipython3",
   "version": "3.7.6"
  }
 },
 "nbformat": 4,
 "nbformat_minor": 4
}
