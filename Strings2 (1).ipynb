{
 "cells": [
  {
   "cell_type": "code",
   "execution_count": 5,
   "metadata": {},
   "outputs": [
    {
     "name": "stdout",
     "output_type": "stream",
     "text": [
      "False\n"
     ]
    }
   ],
   "source": [
    "str=\"   Hello   \"\n",
    "print(str.isspace())"
   ]
  },
  {
   "cell_type": "code",
   "execution_count": 7,
   "metadata": {},
   "outputs": [
    {
     "name": "stdout",
     "output_type": "stream",
     "text": [
      "True\n"
     ]
    }
   ],
   "source": [
    "str=\"Hello World\"\n",
    "print(str.startswith(\"He\"))"
   ]
  },
  {
   "cell_type": "code",
   "execution_count": 9,
   "metadata": {},
   "outputs": [
    {
     "name": "stdout",
     "output_type": "stream",
     "text": [
      "True\n"
     ]
    }
   ],
   "source": [
    "str=\"Hello World\"\n",
    "print(str.endswith(\"World\"))"
   ]
  },
  {
   "cell_type": "code",
   "execution_count": 15,
   "metadata": {},
   "outputs": [
    {
     "name": "stdout",
     "output_type": "stream",
     "text": [
      "-1\n"
     ]
    }
   ],
   "source": [
    "str=\"Hello World\"\n",
    "print(str.find(\"n\"))"
   ]
  },
  {
   "cell_type": "raw",
   "metadata": {},
   "source": []
  },
  {
   "cell_type": "code",
   "execution_count": 16,
   "metadata": {},
   "outputs": [
    {
     "name": "stdout",
     "output_type": "stream",
     "text": [
      "Hello Python\n"
     ]
    }
   ],
   "source": [
    "str=\"Hello World\"\n",
    "print(str.replace(\"World\", \"Python\"))"
   ]
  },
  {
   "cell_type": "code",
   "execution_count": 18,
   "metadata": {},
   "outputs": [
    {
     "name": "stdout",
     "output_type": "stream",
     "text": [
      "Hello World\n",
      "Hello World\n",
      "Hello World\n"
     ]
    }
   ],
   "source": [
    "set1={\"Hello\",\"World\"}\n",
    "list1=[\"Hello\", \"World\"]\n",
    "tuple1=(\"Hello\", \"World\")\n",
    "print(\" \".join(set1))\n",
    "print(\" \".join(list1))\n",
    "print(\" \".join(tuple1))"
   ]
  },
  {
   "cell_type": "markdown",
   "metadata": {},
   "source": [
    "Comparison, Membership, identity, logical"
   ]
  },
  {
   "cell_type": "code",
   "execution_count": 27,
   "metadata": {},
   "outputs": [
    {
     "name": "stdout",
     "output_type": "stream",
     "text": [
      "True\n",
      "True\n",
      "True\n",
      "False\n",
      "True\n",
      "False\n",
      "72\n",
      "80\n"
     ]
    }
   ],
   "source": [
    "# Comparison Operators\n",
    "a=\"Hello\"\n",
    "b=\"Hello\"\n",
    "c=\"Python\"\n",
    "print(a == b)\n",
    "print(a != c)\n",
    "print(a < c)\n",
    "print(a > c)\n",
    "print(a <= c)\n",
    "print(a >= c)\n",
    "print(ord(\"H\"))\n",
    "print(ord(\"P\"))"
   ]
  },
  {
   "cell_type": "code",
   "execution_count": 34,
   "metadata": {},
   "outputs": [
    {
     "name": "stdout",
     "output_type": "stream",
     "text": [
      "True\n",
      "False\n",
      "False\n",
      "True\n"
     ]
    }
   ],
   "source": [
    "# Membership Operators -- in  & not in\n",
    "str=\"Welcome to Python\"\n",
    "print((\"Python\" in str))\n",
    "print(\"Hello\" in str)\n",
    "print((\"Python\" not in str))\n",
    "print(\"Hello\" not in str)"
   ]
  },
  {
   "cell_type": "code",
   "execution_count": 35,
   "metadata": {},
   "outputs": [
    {
     "name": "stdout",
     "output_type": "stream",
     "text": [
      "True\n",
      "False\n"
     ]
    }
   ],
   "source": [
    "# Identity OPerators -- is & is not\n",
    "a=\"Hello\"\n",
    "b=\"Hello\"\n",
    "print(a is b)\n",
    "print(a is not b)"
   ]
  },
  {
   "cell_type": "code",
   "execution_count": 41,
   "metadata": {},
   "outputs": [
    {
     "name": "stdout",
     "output_type": "stream",
     "text": [
      "True\n",
      "True\n",
      "False\n"
     ]
    }
   ],
   "source": [
    "# Logical Operators -- and, or & not\n",
    "a=\"Hello\"\n",
    "b=\"Hello\"\n",
    "c=\"Python\"\n",
    "print((a == b) and (a != c))\n",
    "print((a == b) or (a == c))\n",
    "print(not (a != c))"
   ]
  },
  {
   "cell_type": "markdown",
   "metadata": {},
   "source": [
    "Conditional Statements"
   ]
  },
  {
   "cell_type": "code",
   "execution_count": 47,
   "metadata": {},
   "outputs": [
    {
     "name": "stdout",
     "output_type": "stream",
     "text": [
      "New stmt...\n"
     ]
    }
   ],
   "source": [
    "n=-5\n",
    "if n>0:\n",
    "    print(\"n is Positive no...\")\n",
    "    print(\"This is if conditional stmt...\")\n",
    "print(\"New stmt...\")"
   ]
  },
  {
   "cell_type": "code",
   "execution_count": 49,
   "metadata": {},
   "outputs": [
    {
     "name": "stdout",
     "output_type": "stream",
     "text": [
      "n is -ve no...\n"
     ]
    }
   ],
   "source": [
    "n=-5\n",
    "if n>0:\n",
    "    print(\"n is Positive no...\")\n",
    "    print(\"This is if conditional stmt...\")\n",
    "else:\n",
    "    print(\"n is -ve no...\")"
   ]
  },
  {
   "cell_type": "code",
   "execution_count": 55,
   "metadata": {},
   "outputs": [
    {
     "name": "stdout",
     "output_type": "stream",
     "text": [
      "n is Positive Even no....\n"
     ]
    }
   ],
   "source": [
    "n=-1\n",
    "if n>0:\n",
    "    if n%2 == 0:\n",
    "        print(\"n is Positive Even no....\")\n",
    "    else:\n",
    "        print(\"n is Positive Odd no....\")\n",
    "else:\n",
    "    print(\"n is Zero..\")"
   ]
  },
  {
   "cell_type": "code",
   "execution_count": null,
   "metadata": {},
   "outputs": [],
   "source": []
  }
 ],
 "metadata": {
  "kernelspec": {
   "display_name": "Python 3",
   "language": "python",
   "name": "python3"
  },
  "language_info": {
   "codemirror_mode": {
    "name": "ipython",
    "version": 3
   },
   "file_extension": ".py",
   "mimetype": "text/x-python",
   "name": "python",
   "nbconvert_exporter": "python",
   "pygments_lexer": "ipython3",
   "version": "3.7.6"
  }
 },
 "nbformat": 4,
 "nbformat_minor": 4
}
