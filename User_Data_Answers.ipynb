{
 "cells": [
  {
   "cell_type": "code",
   "execution_count": null,
   "metadata": {},
   "outputs": [],
   "source": [
    "# ROLL NO - 31"
   ]
  },
  {
   "cell_type": "code",
   "execution_count": 1,
   "metadata": {},
   "outputs": [],
   "source": [
    "# 1. read dataset and separate features and target variable\n",
    "\n",
    "import pandas as pd\n",
    "\n",
    "# Read dataset\n",
    "data = pd.read_csv('User_Data.csv')\n",
    "\n",
    "# Separate fea and target var\n",
    "X = data[['Age', 'EstimatedSalary']]  \n",
    "y = data['Purchased']  \n"
   ]
  },
  {
   "cell_type": "code",
   "execution_count": 2,
   "metadata": {},
   "outputs": [],
   "source": [
    "# 2. split the given dataset with 30% of samples for testing and remaining for training form given dataset.\n",
    "\n",
    "from sklearn.model_selection import train_test_split\n",
    "\n",
    "X_train, X_test, y_train, y_test = train_test_split(X, y, test_size=0.3, random_state=42)\n",
    "\n",
    "# Import train_test_split: This function from sklearn helps split the dataset into training and testing sets."
   ]
  },
  {
   "cell_type": "code",
   "execution_count": 3,
   "metadata": {},
   "outputs": [
    {
     "data": {
      "text/plain": [
       "GaussianNB(priors=None, var_smoothing=1e-09)"
      ]
     },
     "execution_count": 3,
     "metadata": {},
     "output_type": "execute_result"
    }
   ],
   "source": [
    "# 3. Prepare and train the Model.\n",
    "\n",
    "from sklearn.naive_bayes import GaussianNB\n",
    "\n",
    "# Create the Gaussian Naive Bayes model\n",
    "model = GaussianNB()\n",
    "\n",
    "# Train the model\n",
    "model.fit(X_train, y_train)\n",
    "\n",
    "\n",
    "# Import GaussianNB: This imports the Gaussian Naive Bayes classifier, which is suitable for continuous features.\n",
    "# Create the Model: We instantiate the model with GaussianNB().\n",
    "# Train the Model: The fit method trains the model on the training data (X_train and y_train)."
   ]
  },
  {
   "cell_type": "code",
   "execution_count": 4,
   "metadata": {},
   "outputs": [
    {
     "name": "stdout",
     "output_type": "stream",
     "text": [
      "Confusion Matrix:\n",
      "[[72  1]\n",
      " [ 8 39]]\n"
     ]
    }
   ],
   "source": [
    "# 4. prepare confusion matrix.\n",
    "\n",
    "from sklearn.metrics import confusion_matrix\n",
    "\n",
    "# Make predictions on the test set\n",
    "y_pred = model.predict(X_test)\n",
    "\n",
    "# Generate confusion matrix\n",
    "cm = confusion_matrix(y_test, y_pred)\n",
    "print(\"Confusion Matrix:\")\n",
    "print(cm)\n",
    "\n",
    "# Import confusion_matrix: This metric helps evaluate the performance of the classification model.\n",
    "# Make Predictions: The predict method uses the trained model to make predictions on the test set (X_test).\n",
    "# Generate Confusion Matrix: This compares the actual target values (y_test) with the predicted values (y_pred). It provides a matrix showing true positives, true negatives, false positives, and false negatives, which helps in assessing model performance."
   ]
  },
  {
   "cell_type": "code",
   "execution_count": 5,
   "metadata": {},
   "outputs": [
    {
     "name": "stdout",
     "output_type": "stream",
     "text": [
      "Accuracy: 92.50%\n"
     ]
    }
   ],
   "source": [
    "# 5. find accuracy(in %) of the model (accuracy should remain constant after subsequent iterations)\n",
    "\n",
    "from sklearn.metrics import accuracy_score\n",
    "\n",
    "# Calculate accuracy\n",
    "accuracy = accuracy_score(y_test, y_pred) * 100\n",
    "print(f\"Accuracy: {accuracy:.2f}%\")\n",
    "\n",
    "\n",
    "# Import accuracy_score: This function computes the accuracy of the model.\n",
    "# Calculate Accuracy: It compares the predicted values with the actual values. The result is multiplied by 100 to express it as a percentage.\n",
    "# Print Accuracy: The accuracy of the model is printed, showing the percentage of correct predictions."
   ]
  },
  {
   "cell_type": "code",
   "execution_count": 6,
   "metadata": {},
   "outputs": [
    {
     "name": "stdout",
     "output_type": "stream",
     "text": [
      "Misclassified Data:\n",
      "     Actual  Predicted\n",
      "376       0          1\n",
      "395       1          0\n",
      "352       1          0\n",
      "388       1          0\n",
      "289       1          0\n",
      "18        1          0\n",
      "75        1          0\n",
      "137       1          0\n",
      "285       1          0\n"
     ]
    }
   ],
   "source": [
    "# 6. identify miss-classified data (display actual and predicted data side-by-side).\n",
    "\n",
    "# Identify misclassified data\n",
    "misclassified_indices = (y_test != y_pred)\n",
    "misclassified_data = pd.DataFrame({\n",
    "    'Actual': y_test[misclassified_indices],\n",
    "    'Predicted': y_pred[misclassified_indices]\n",
    "})\n",
    "\n",
    "print(\"Misclassified Data:\")\n",
    "print(misclassified_data)\n",
    "\n",
    "# Identify Misclassified Data: We create a boolean index (misclassified_indices) that is True where predictions don't match actual values.\n",
    "# Create DataFrame: A new DataFrame (misclassified_data) is created that includes only the actual and predicted values of the misclassified instances.\n",
    "# Print Misclassified Data: This displays the data points where the model made incorrect predictions."
   ]
  },
  {
   "cell_type": "code",
   "execution_count": null,
   "metadata": {},
   "outputs": [],
   "source": []
  }
 ],
 "metadata": {
  "kernelspec": {
   "display_name": "Python 3",
   "language": "python",
   "name": "python3"
  },
  "language_info": {
   "codemirror_mode": {
    "name": "ipython",
    "version": 3
   },
   "file_extension": ".py",
   "mimetype": "text/x-python",
   "name": "python",
   "nbconvert_exporter": "python",
   "pygments_lexer": "ipython3",
   "version": "3.7.6"
  }
 },
 "nbformat": 4,
 "nbformat_minor": 4
}
