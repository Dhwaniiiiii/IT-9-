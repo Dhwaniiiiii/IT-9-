{
 "cells": [
  {
   "cell_type": "code",
   "execution_count": 29,
   "metadata": {},
   "outputs": [],
   "source": [
    "class abc:\n",
    "    #value=0\n",
    "    def __init__(self, value):\n",
    "        self.value=value\n",
    "    \n",
    "    def show(self):\n",
    "        #self.value=value\n",
    "        print(f\"show in abc....{self.value}\")\n",
    "    "
   ]
  },
  {
   "cell_type": "code",
   "execution_count": 30,
   "metadata": {},
   "outputs": [
    {
     "name": "stdout",
     "output_type": "stream",
     "text": [
      "show in abc....10\n"
     ]
    }
   ],
   "source": [
    "obj=abc(10)\n",
    "obj.show()"
   ]
  },
  {
   "cell_type": "code",
   "execution_count": 31,
   "metadata": {},
   "outputs": [],
   "source": [
    "class xyz:\n",
    "      \n",
    "    def show(self, value):\n",
    "        self.value=value\n",
    "        print(f\"show in abc....{value}\")\n",
    "    "
   ]
  },
  {
   "cell_type": "code",
   "execution_count": 32,
   "metadata": {},
   "outputs": [
    {
     "name": "stdout",
     "output_type": "stream",
     "text": [
      "show in abc....10\n"
     ]
    }
   ],
   "source": [
    "obj1=xyz()\n",
    "obj1.show(10)"
   ]
  },
  {
   "cell_type": "code",
   "execution_count": 10,
   "metadata": {},
   "outputs": [],
   "source": [
    "# Sigle Inheritance\n",
    "class parent:\n",
    "    def func1(self):\n",
    "        print(\"This is parent class\")\n",
    "class child(parent):\n",
    "    def func2(self):\n",
    "        print(\"This is child class\")"
   ]
  },
  {
   "cell_type": "code",
   "execution_count": 11,
   "metadata": {},
   "outputs": [
    {
     "name": "stdout",
     "output_type": "stream",
     "text": [
      "This is parent class\n"
     ]
    }
   ],
   "source": [
    "obj=child()\n",
    "obj.func1()"
   ]
  },
  {
   "cell_type": "code",
   "execution_count": 12,
   "metadata": {},
   "outputs": [],
   "source": [
    "# Multiple Inheritance\n",
    "class parent1:\n",
    "    def func1(self):\n",
    "        print(\"This is parent1 class\")\n",
    "class parent2:\n",
    "    def func2(self):\n",
    "        print(\"This is parent2 class\")\n",
    "class child(parent1, parent2):\n",
    "    def func3(self):\n",
    "        print(\"This is child class\")"
   ]
  },
  {
   "cell_type": "code",
   "execution_count": 15,
   "metadata": {},
   "outputs": [
    {
     "name": "stdout",
     "output_type": "stream",
     "text": [
      "This is parent2 class\n"
     ]
    }
   ],
   "source": [
    "obj=child()\n",
    "obj.func2()"
   ]
  },
  {
   "cell_type": "code",
   "execution_count": 18,
   "metadata": {},
   "outputs": [],
   "source": [
    "# Multi-level Inheritance\n",
    "class grandparent:\n",
    "    def func1(self):\n",
    "        print(\"This is grandparent class\")\n",
    "class parent(grandparent):\n",
    "    def func2(self):\n",
    "        print(\"This is parent class\")\n",
    "class child(parent):\n",
    "    def func3(self):\n",
    "        print(\"This is child class\")"
   ]
  },
  {
   "cell_type": "code",
   "execution_count": 21,
   "metadata": {},
   "outputs": [
    {
     "name": "stdout",
     "output_type": "stream",
     "text": [
      "This is child class\n"
     ]
    }
   ],
   "source": [
    "obj=child()\n",
    "obj.func3()"
   ]
  },
  {
   "cell_type": "code",
   "execution_count": 22,
   "metadata": {},
   "outputs": [],
   "source": [
    "# Hierarchcal Inheritance\n",
    "class parent:\n",
    "    def func1(self):\n",
    "        print(\"This is parent class\")\n",
    "class child1(parent):\n",
    "    def func2(self):\n",
    "        print(\"This is child1 class\")\n",
    "class child2(parent):\n",
    "    def func3(self):\n",
    "        print(\"This is child2 class\")"
   ]
  },
  {
   "cell_type": "code",
   "execution_count": 23,
   "metadata": {},
   "outputs": [
    {
     "name": "stdout",
     "output_type": "stream",
     "text": [
      "This is parent class\n",
      "This is parent class\n"
     ]
    }
   ],
   "source": [
    "obj1=child1()\n",
    "obj1.func1()\n",
    "obj2=child2()\n",
    "obj2.func1()"
   ]
  },
  {
   "cell_type": "code",
   "execution_count": 5,
   "metadata": {},
   "outputs": [],
   "source": [
    "# Hybrid Inheritance\n"
   ]
  },
  {
   "cell_type": "code",
   "execution_count": 24,
   "metadata": {},
   "outputs": [],
   "source": [
    "# Polymorphism\n",
    "# Overriding\n",
    "class parent:\n",
    "    def func1(self):\n",
    "        print(\"This is parent class\")\n",
    "class child(parent):\n",
    "    def func1(self):\n",
    "        print(\"This is child class\")"
   ]
  },
  {
   "cell_type": "code",
   "execution_count": 25,
   "metadata": {},
   "outputs": [
    {
     "name": "stdout",
     "output_type": "stream",
     "text": [
      "This is child class\n"
     ]
    }
   ],
   "source": [
    "obj=child()\n",
    "obj.func1()"
   ]
  },
  {
   "cell_type": "code",
   "execution_count": 2,
   "metadata": {},
   "outputs": [],
   "source": [
    "# Overloading partially supported by Python\n",
    "class parent:\n",
    "    def func1(self):\n",
    "        print(\"This is parent class\")\n",
    "class child(parent):\n",
    "    #self.func1()\n",
    "    def func1(self, msg):\n",
    "        print(\"This is child class\", msg)"
   ]
  },
  {
   "cell_type": "code",
   "execution_count": 3,
   "metadata": {},
   "outputs": [
    {
     "name": "stdout",
     "output_type": "stream",
     "text": [
      "This is child class Python\n"
     ]
    }
   ],
   "source": [
    "obj=child()\n",
    "obj.func1(\"Python\")"
   ]
  },
  {
   "cell_type": "code",
   "execution_count": 4,
   "metadata": {},
   "outputs": [],
   "source": [
    "# Runtime Polymorphism\n",
    "class parent:\n",
    "    def func1(self):\n",
    "        print(\"This is parent class\")\n",
    "class child(parent):\n",
    "    def func1(self):\n",
    "        print(\"This is child class\")"
   ]
  },
  {
   "cell_type": "code",
   "execution_count": 11,
   "metadata": {},
   "outputs": [
    {
     "name": "stdout",
     "output_type": "stream",
     "text": [
      "enter a value(0/1):0\n",
      "This is parent class\n"
     ]
    }
   ],
   "source": [
    "obj\n",
    "obj1=parent()\n",
    "obj2=child()\n",
    "\n",
    "a=int(input(\"enter a value(0/1):\"))\n",
    "if a==0:\n",
    "    obj=obj1\n",
    "    obj.func1()\n",
    "\n",
    "if a==1:\n",
    "    obj=obj2\n",
    "    obj.func1()\n",
    "\n"
   ]
  },
  {
   "cell_type": "code",
   "execution_count": null,
   "metadata": {},
   "outputs": [],
   "source": []
  }
 ],
 "metadata": {
  "kernelspec": {
   "display_name": "Python 3",
   "language": "python",
   "name": "python3"
  },
  "language_info": {
   "codemirror_mode": {
    "name": "ipython",
    "version": 3
   },
   "file_extension": ".py",
   "mimetype": "text/x-python",
   "name": "python",
   "nbconvert_exporter": "python",
   "pygments_lexer": "ipython3",
   "version": "3.7.6"
  }
 },
 "nbformat": 4,
 "nbformat_minor": 4
}
