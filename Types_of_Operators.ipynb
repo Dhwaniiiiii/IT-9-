{
 "cells": [
  {
   "cell_type": "markdown",
   "metadata": {},
   "source": [
    "# Python Operators"
   ]
  },
  {
   "cell_type": "markdown",
   "metadata": {},
   "source": [
    "Lambda expressions¶\n",
    "Lambda expressions in Python provide a way to create small anonymous functions. They are defined using the lambda keyword.\n",
    "\n",
    "Lambda functions can have any number of arguments, but they can only have one expression. They are often used when you need a simple function that is used only once and you don't want to define a full-fledged function using def."
   ]
  },
  {
   "cell_type": "code",
   "execution_count": 2,
   "metadata": {},
   "outputs": [
    {
     "name": "stdout",
     "output_type": "stream",
     "text": [
      "8\n",
      "16\n"
     ]
    }
   ],
   "source": [
    "# lambda expressions in python code\n",
    "add = lambda x,y:x+y\n",
    "print(add(5,3))\n",
    "\n",
    "square = lambda x:x*x\n",
    "print(square(4))"
   ]
  },
  {
   "cell_type": "code",
   "execution_count": 3,
   "metadata": {},
   "outputs": [
    {
     "name": "stdout",
     "output_type": "stream",
     "text": [
      "[2, 4, 6]\n"
     ]
    }
   ],
   "source": [
    "numbers=[1,2,3,4,5,6]\n",
    "en=list(filter(lambda x:x%2==0, numbers))\n",
    "print(en)"
   ]
  },
  {
   "cell_type": "code",
   "execution_count": 4,
   "metadata": {},
   "outputs": [
    {
     "name": "stdout",
     "output_type": "stream",
     "text": [
      "[2, 4, 6, 8, 10, 12]\n"
     ]
    }
   ],
   "source": [
    "numbers=[1,2,3,4,5,6]\n",
    "d=list(map(lambda x:x*2, numbers))\n",
    "print(d)"
   ]
  },
  {
   "cell_type": "markdown",
   "metadata": {},
   "source": [
    "# Python Operators"
   ]
  },
  {
   "cell_type": "code",
   "execution_count": 1,
   "metadata": {},
   "outputs": [
    {
     "name": "stdout",
     "output_type": "stream",
     "text": [
      "\n",
      " 1. Addition Operator[+] :-         x + y + z =  69\n",
      "\n",
      " 2. Subtraction Operator[-] :-      z - x =  4\n",
      "\n",
      " 3. Multiplication Operator[*] :-   x * y =  483\n",
      "\n",
      " 4. Division Operator[/] :-         y / 5 =  4.6\n",
      "\n",
      " 5. Modulus Operator[%] :-          x % y =  21\n",
      "\n",
      " 6. Exponentiation Operator[**] :-   2 ** 5 =  32\n",
      "\n",
      " 7. Floor division Operator[//] :-   5 // 3 =  2\n"
     ]
    }
   ],
   "source": [
    "#Arithmetic operators are used with numeric values to perform common mathematical operations\n",
    "x=21\n",
    "y=23\n",
    "z=25\n",
    "\n",
    "print(\"\\n 1. Addition Operator[+] :-         x + y + z = \", x + y + z)\n",
    "print(\"\\n 2. Subtraction Operator[-] :-      z - x = \", z - x)\n",
    "print(\"\\n 3. Multiplication Operator[*] :-   x * y = \", x * y)\n",
    "print(\"\\n 4. Division Operator[/] :-         y / 5 = \", y / 5)\n",
    "print(\"\\n 5. Modulus Operator[%] :-          x % y = \", x % y)\n",
    "print(\"\\n 6. Exponentiation Operator[**] :-   2 ** 5 = \", 2 ** 5 ) # Same as 2*2*2*2*2\n",
    "print(\"\\n 7. Floor division Operator[//] :-   5 // 3 = \", 8 // 3) #the floor division // rounds the result down to the nearest whole number"
   ]
  },
  {
   "cell_type": "code",
   "execution_count": 2,
   "metadata": {},
   "outputs": [
    {
     "name": "stdout",
     "output_type": "stream",
     "text": [
      "\n",
      "\n",
      "1.x =  5\n",
      "\n",
      "2.x =  10\n",
      "\n",
      "3.x =  8\n",
      "\n",
      "4.x =  168\n",
      "\n",
      "5.x =  56\n",
      "\n",
      "6.x =  2\n",
      "\n",
      "7.x =  2.0\n",
      "\n",
      "8.x =  16.0\n",
      "\n",
      "9.x =  1\n",
      "\n",
      "10.x =  3\n"
     ]
    }
   ],
   "source": [
    "# Assignment operators are used to assign values to variables\n",
    "x=5\n",
    "print(\"\\n\\n1.x = \",x)\n",
    "x+=5\n",
    "print(\"\\n2.x = \",x)\n",
    "x-=2\n",
    "print(\"\\n3.x = \",x)\n",
    "x*=21\n",
    "print(\"\\n4.x = \",x)\n",
    "x/=3\n",
    "print(\"\\n5.x = \",int(x))\n",
    "x%=3\n",
    "print(\"\\n6.x = \",int(x))\n",
    "x//=1\n",
    "print(\"\\n7.x = \",float(x))\n",
    "x**=4\n",
    "print(\"\\n8.x = \",x)\n",
    "x=5\n",
    "x&=3\n",
    "print(\"\\n9.x = \",x)\n",
    "x|=3\n",
    "print(\"\\n10.x = \",x)"
   ]
  },
  {
   "cell_type": "code",
   "execution_count": 3,
   "metadata": {},
   "outputs": [
    {
     "name": "stdout",
     "output_type": "stream",
     "text": [
      "\n",
      "1. x==y :-  False\n",
      "\n",
      "2. x!=y :-  True\n",
      "\n",
      "3. x>y :-  False\n",
      "\n",
      "4. x<y :-  True\n",
      "\n",
      "5. x>=y :-  False\n",
      "\n",
      "6. x<=y :-  True\n"
     ]
    }
   ],
   "source": [
    "# Comparison operators are used to compare two values\n",
    "x=1\n",
    "y=2\n",
    "z=5\n",
    "\n",
    "print(\"\\n1. x==y :- \" , x == y)\n",
    "print(\"\\n2. x!=y :- \" , x != y)\n",
    "print(\"\\n3. x>y :- \" , x > y)\n",
    "print(\"\\n4. x<y :- \" , x < y)\n",
    "print(\"\\n5. x>=y :- \" , x >= y)\n",
    "print(\"\\n6. x<=y :- \" , x <= y)"
   ]
  },
  {
   "cell_type": "code",
   "execution_count": 4,
   "metadata": {},
   "outputs": [
    {
     "name": "stdout",
     "output_type": "stream",
     "text": [
      "\n",
      "1. x and y :-  False\n",
      "\n",
      "2. x or y :-  True\n",
      "\n",
      "3. not(x) :-  False\n"
     ]
    }
   ],
   "source": [
    "# Logical operators are used to combine conditional statements\n",
    "x=35\n",
    "y=54\n",
    "z=46\n",
    "print(\"\\n1. x and y :- \" , x<5 and y>12)\n",
    "print(\"\\n2. x or y :- \" , x<55 or y<100)\n",
    "print(\"\\n3. not(x) :- \" , not(x>10))"
   ]
  },
  {
   "cell_type": "code",
   "execution_count": 5,
   "metadata": {},
   "outputs": [
    {
     "name": "stdout",
     "output_type": "stream",
     "text": [
      "True\n",
      "False\n",
      "False\n",
      "True\n"
     ]
    }
   ],
   "source": [
    "x = [\"apple\", \"banana\"]\n",
    "y = [\"apple\", \"banana\"]\n",
    "z = x\n",
    "\n",
    "print(x is z)\n",
    "\n",
    "print(x is y)\n",
    "\n",
    "print(x is not z)\n",
    "\n",
    "print(x is not y)"
   ]
  },
  {
   "cell_type": "code",
   "execution_count": 6,
   "metadata": {},
   "outputs": [
    {
     "name": "stdout",
     "output_type": "stream",
     "text": [
      "\n",
      " 1. Victoria Neuman in TheBoys :-  True\n",
      "\n",
      " 2. Soldier Boy in TheBoys :-  False\n",
      "\n",
      " 3. Soldier Boy not in TheBoys :-  True\n",
      "\n",
      " 4. Victoria Neuman not in TheBoys :-  False\n"
     ]
    }
   ],
   "source": [
    "# Membership operators are used to test if a sequence is presented in an object\n",
    "TheBoys = (\"Homelander\",\"Billy Butcher\",\"Victoria Neuman\",\"Stormfront\")\n",
    "print(\"\\n 1. Victoria Neuman in TheBoys :- \",\"Victoria Neuman\" in TheBoys) # [Returns True if a sequence with the specified value is present in the object]\n",
    "print(\"\\n 2. Soldier Boy in TheBoys :- \",\"Soldier Boy\" in TheBoys)\n",
    "print(\"\\n 3. Soldier Boy not in TheBoys :- \",\"Soldier Boy\" not in TheBoys) #  [Returns True if a sequence with the specified value is not present in the object]\n",
    "print(\"\\n 4. Victoria Neuman not in TheBoys :- \",\"Victoria Neuman\" not in TheBoys)"
   ]
  },
  {
   "cell_type": "code",
   "execution_count": 7,
   "metadata": {},
   "outputs": [
    {
     "name": "stdout",
     "output_type": "stream",
     "text": [
      "\n",
      "\n",
      " 1. AND(&) :- 2 & 1 =  0\n",
      "\n",
      " 2. OR(|) :- 2 | 1 =  3\n",
      "\n",
      " 3. NOT(~) :- ~1 =  -2\n",
      "\n",
      " 4. XOR(^) :- 2 ^ 1 =  3\n",
      "\n",
      " 5. Right Shift(>>) :- 2 >> 2 =  0\n",
      "\n",
      " 6. Left Shift(<<) :- 2 << 2 =  8\n"
     ]
    }
   ],
   "source": [
    "# Bitwise operators are used to compare (binary) numbers\n",
    "print(\"\\n\\n 1. AND(&) :- 2 & 1 = \",2 & 1) # [Sets each bit to 1 if both bits are 1] 0010 & 0001 = 0000\n",
    "print(\"\\n 2. OR(|) :- 2 | 1 = \",2 | 1) #  [Sets each bit to 1 if one of two bits is 1] =0011\n",
    "print(\"\\n 3. NOT(~) :- ~1 = \",~1) #  [Inverts all the bits] \n",
    "print(\"\\n 4. XOR(^) :- 2 ^ 1 = \",2 ^ 1) #  [Sets each bit to 1 if only one of two bits is 1]\n",
    "print(\"\\n 5. Right Shift(>>) :- 2 >> 2 = \",2 >> 2) #  [Shift right by pushing copies of the leftmost bit in from the left, and let the rightmost bits fall off]\n",
    "print(\"\\n 6. Left Shift(<<) :- 2 << 2 = \",2 << 2) #  [Shift left by pushing zeros in from the right and let"
   ]
  },
  {
   "cell_type": "code",
   "execution_count": null,
   "metadata": {},
   "outputs": [],
   "source": []
  },
  {
   "cell_type": "markdown",
   "metadata": {},
   "source": [
    "# Input and Output statement"
   ]
  },
  {
   "cell_type": "code",
   "execution_count": 8,
   "metadata": {},
   "outputs": [
    {
     "name": "stdout",
     "output_type": "stream",
     "text": [
      "Enter Your nameManish\n",
      "Welcome Manish\n"
     ]
    }
   ],
   "source": [
    "name=input(\"Enter Your name\")\n",
    "print(\"Welcome\", name)"
   ]
  },
  {
   "cell_type": "code",
   "execution_count": 10,
   "metadata": {},
   "outputs": [
    {
     "name": "stdout",
     "output_type": "stream",
     "text": [
      " 6\n",
      "12\n"
     ]
    }
   ],
   "source": [
    "v=int(input(\" \"))\n",
    "print(v*2)"
   ]
  },
  {
   "cell_type": "code",
   "execution_count": 11,
   "metadata": {},
   "outputs": [
    {
     "name": "stdout",
     "output_type": "stream",
     "text": [
      "Enter Your nameManish\n",
      "Welcome Manish\n"
     ]
    }
   ],
   "source": [
    "name=input(\"Enter Your name\")\n",
    "print(f\"Welcome {name}\")"
   ]
  },
  {
   "cell_type": "code",
   "execution_count": null,
   "metadata": {},
   "outputs": [],
   "source": [
    "\n"
   ]
  },
  {
   "cell_type": "markdown",
   "metadata": {},
   "source": [
    "# Python Array"
   ]
  },
  {
   "cell_type": "code",
   "execution_count": 16,
   "metadata": {},
   "outputs": [
    {
     "name": "stdout",
     "output_type": "stream",
     "text": [
      "1.0\n",
      "2.0\n",
      "3.0\n",
      "4.0\n",
      "5.0\n",
      "6.0\n"
     ]
    }
   ],
   "source": [
    "import array as arr\n",
    "a=arr.array('f',[1,2,3,4,5,6])\n",
    "for i in range(0,6):\n",
    "    print(a[i])\n",
    "    \n"
   ]
  },
  {
   "cell_type": "code",
   "execution_count": 15,
   "metadata": {},
   "outputs": [
    {
     "name": "stdout",
     "output_type": "stream",
     "text": [
      "1\n",
      "2\n",
      "3\n",
      "4\n",
      "5\n",
      "6\n"
     ]
    }
   ],
   "source": [
    "a=arr.array('i',[1,2,3,4,5,6])\n",
    "for i in a:\n",
    "    print(i)"
   ]
  },
  {
   "cell_type": "code",
   "execution_count": 19,
   "metadata": {},
   "outputs": [
    {
     "name": "stdout",
     "output_type": "stream",
     "text": [
      "5.0\n"
     ]
    }
   ],
   "source": [
    "print(a[-2])"
   ]
  },
  {
   "cell_type": "code",
   "execution_count": 20,
   "metadata": {},
   "outputs": [
    {
     "name": "stdout",
     "output_type": "stream",
     "text": [
      "array('f', [3.0, 4.0, 5.0])\n"
     ]
    }
   ],
   "source": [
    "print(a[2:5])"
   ]
  },
  {
   "cell_type": "code",
   "execution_count": 21,
   "metadata": {},
   "outputs": [
    {
     "name": "stdout",
     "output_type": "stream",
     "text": [
      "array('f', [4.0, 5.0, 6.0])\n"
     ]
    }
   ],
   "source": [
    "print(a[3:])"
   ]
  },
  {
   "cell_type": "code",
   "execution_count": 22,
   "metadata": {},
   "outputs": [
    {
     "name": "stdout",
     "output_type": "stream",
     "text": [
      "array('f', [1.0, 2.0, 3.0, 4.0])\n"
     ]
    }
   ],
   "source": [
    "print(a[:4])"
   ]
  },
  {
   "cell_type": "code",
   "execution_count": null,
   "metadata": {},
   "outputs": [],
   "source": []
  }
 ],
 "metadata": {
  "kernelspec": {
   "display_name": "Python 3",
   "language": "python",
   "name": "python3"
  },
  "language_info": {
   "codemirror_mode": {
    "name": "ipython",
    "version": 3
   },
   "file_extension": ".py",
   "mimetype": "text/x-python",
   "name": "python",
   "nbconvert_exporter": "python",
   "pygments_lexer": "ipython3",
   "version": "3.7.6"
  }
 },
 "nbformat": 4,
 "nbformat_minor": 4
}
